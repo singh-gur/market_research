{
 "cells": [
  {
   "cell_type": "markdown",
   "metadata": {},
   "source": [
    "# Yahoo News Scraper Tool Testing\n",
    "\n",
    "This notebook tests the Yahoo News Scraper tool with various scenarios including different stock tickers, error handling, and edge cases."
   ]
  },
  {
   "cell_type": "code",
   "execution_count": null,
   "metadata": {},
   "outputs": [],
   "source": [
    "# Import necessary modules\n",
    "import sys\n",
    "import os\n",
    "import logging\n",
    "\n",
    "# Add the src directory to Python path\n",
    "sys.path.insert(0, os.path.join(os.getcwd(), 'src'))\n",
    "\n",
    "# Configure logging to see debug information\n",
    "logging.basicConfig(level=logging.INFO, format='%(asctime)s - %(levelname)s - %(message)s')\n",
    "\n",
    "print(\"Setup complete!\")\n",
    "print(f\"Current working directory: {os.getcwd()}\")\n",
    "print(f\"Python path: {sys.path[:3]}...\")  # Show first 3 paths"
   ]
  },
  {
   "cell_type": "code",
   "execution_count": null,
   "metadata": {},
   "outputs": [],
   "source": [
    "# Import the Yahoo News Scraper tool\n",
    "from market_research.tools.yahoo_news_scraper import YahooNewsScraperTool, yahoo_news_scraper_tool\n",
    "\n",
    "print(\"Successfully imported Yahoo News Scraper!\")"
   ]
  },
  {
   "cell_type": "markdown",
   "metadata": {},
   "source": [
    "## Test 1: Basic Functionality - Popular Stock Ticker"
   ]
  },
  {
   "cell_type": "code",
   "execution_count": null,
   "metadata": {},
   "outputs": [],
   "source": [
    "# Test with Apple stock (AAPL) - should have plenty of news\n",
    "print(\"Testing with AAPL (Apple Inc.)...\")\n",
    "print(\"=\" * 50)\n",
    "\n",
    "try:\n",
    "    result = yahoo_news_scraper_tool(ticker=\"AAPL\", max_articles=3)\n",
    "    print(result)\n",
    "    print(\"\\n\" + \"=\" * 50)\n",
    "    print(\"✅ AAPL test completed successfully!\")\n",
    "except Exception as e:\n",
    "    print(f\"❌ Error testing AAPL: {e}\")"
   ]
  },
  {
   "cell_type": "markdown",
   "metadata": {},
   "source": [
    "## Test 2: Different Stock Tickers"
   ]
  },
  {
   "cell_type": "code",
   "execution_count": null,
   "metadata": {},
   "outputs": [],
   "source": [
    "# Test with multiple different stock tickers\n",
    "test_tickers = [\"TSLA\", \"GOOGL\", \"MSFT\", \"NVDA\"]\n",
    "\n",
    "for ticker in test_tickers:\n",
    "    print(f\"\\nTesting with {ticker}...\")\n",
    "    print(\"-\" * 30)\n",
    "    \n",
    "    try:\n",
    "        result = yahoo_news_scraper_tool(ticker=ticker, max_articles=2)\n",
    "        # Show just the first 200 characters to keep output manageable\n",
    "        preview = result[:200] + \"...\" if len(result) > 200 else result\n",
    "        print(preview)\n",
    "        print(f\"✅ {ticker} test completed - Full result length: {len(result)} characters\")\n",
    "    except Exception as e:\n",
    "        print(f\"❌ Error testing {ticker}: {e}\")"
   ]
  },
  {
   "cell_type": "markdown",
   "metadata": {},
   "source": [
    "## Test 3: Different Article Limits"
   ]
  },
  {
   "cell_type": "code",
   "execution_count": null,
   "metadata": {},
   "outputs": [],
   "source": [
    "# Test different max_articles values\n",
    "ticker = \"AAPL\"  # Use AAPL as it's likely to have many articles\n",
    "article_limits = [1, 5, 15]\n",
    "\n",
    "for limit in article_limits:\n",
    "    print(f\"\\nTesting {ticker} with max_articles={limit}...\")\n",
    "    print(\"-\" * 40)\n",
    "    \n",
    "    try:\n",
    "        result = yahoo_news_scraper_tool(ticker=ticker, max_articles=limit)\n",
    "        \n",
    "        # Count the number of articles returned by counting numbered items\n",
    "        article_count = result.count(\"**\")  # Each article has a bold title\n",
    "        \n",
    "        preview = result[:300] + \"...\" if len(result) > 300 else result\n",
    "        print(preview)\n",
    "        print(f\"\\n📊 Requested: {limit} articles, Found: ~{article_count} articles\")\n",
    "        print(f\"✅ Test completed - Result length: {len(result)} characters\")\n",
    "    except Exception as e:\n",
    "        print(f\"❌ Error testing with limit {limit}: {e}\")"
   ]
  },
  {
   "cell_type": "markdown",
   "metadata": {},
   "source": [
    "## Test 4: Edge Cases and Error Handling"
   ]
  },
  {
   "cell_type": "code",
   "execution_count": null,
   "metadata": {},
   "outputs": [],
   "source": [
    "# Test edge cases\n",
    "edge_cases = [\n",
    "    (\"\", \"Empty ticker\"),\n",
    "    (\"   \", \"Whitespace ticker\"), \n",
    "    (\"INVALID123\", \"Invalid ticker\"),\n",
    "    (\"aapl\", \"Lowercase ticker\"),\n",
    "    (\"AAPL \", \"Ticker with trailing space\")\n",
    "]\n",
    "\n",
    "for ticker, description in edge_cases:\n",
    "    print(f\"\\nTesting: {description} ('{ticker}')...\")\n",
    "    print(\"-\" * 40)\n",
    "    \n",
    "    try:\n",
    "        result = yahoo_news_scraper_tool(ticker=ticker, max_articles=2)\n",
    "        preview = result[:200] + \"...\" if len(result) > 200 else result\n",
    "        print(preview)\n",
    "        \n",
    "        if \"Error\" in result:\n",
    "            print(\"⚠️ Expected error handled properly\")\n",
    "        else:\n",
    "            print(\"✅ Handled successfully\")\n",
    "    except Exception as e:\n",
    "        print(f\"❌ Unexpected exception: {e}\")"
   ]
  },
  {
   "cell_type": "markdown",
   "metadata": {},
   "source": [
    "## Test 5: Class-based Usage"
   ]
  },
  {
   "cell_type": "code",
   "execution_count": null,
   "metadata": {},
   "outputs": [],
   "source": [
    "# Test using the class directly instead of the convenience function\n",
    "print(\"Testing class-based usage...\")\n",
    "print(\"=\" * 40)\n",
    "\n",
    "try:\n",
    "    # Create tool instance\n",
    "    tool = YahooNewsScraperTool()\n",
    "    \n",
    "    # Test tool properties\n",
    "    print(f\"Tool name: {tool.name}\")\n",
    "    print(f\"Tool description: {tool.description[:100]}...\")\n",
    "    print(f\"Args schema: {tool.args_schema}\")\n",
    "    \n",
    "    # Run the tool\n",
    "    result = tool._run(ticker=\"MSFT\", max_articles=2)\n",
    "    preview = result[:200] + \"...\" if len(result) > 200 else result\n",
    "    print(f\"\\nResult preview: {preview}\")\n",
    "    print(\"✅ Class-based usage test completed\")\n",
    "    \n",
    "except Exception as e:\n",
    "    print(f\"❌ Error in class-based usage: {e}\")"
   ]
  },
  {
   "cell_type": "markdown",
   "metadata": {},
   "source": [
    "## Test 6: Performance and Timing"
   ]
  },
  {
   "cell_type": "code",
   "execution_count": null,
   "metadata": {},
   "outputs": [],
   "source": [
    "import time\n",
    "\n",
    "# Test performance with timing\n",
    "print(\"Performance testing...\")\n",
    "print(\"=\" * 30)\n",
    "\n",
    "ticker = \"AAPL\"\n",
    "max_articles = 3\n",
    "\n",
    "start_time = time.time()\n",
    "try:\n",
    "    result = yahoo_news_scraper_tool(ticker=ticker, max_articles=max_articles)\n",
    "    end_time = time.time()\n",
    "    \n",
    "    duration = end_time - start_time\n",
    "    \n",
    "    print(f\"⏱️ Execution time: {duration:.2f} seconds\")\n",
    "    print(f\"📊 Result length: {len(result)} characters\")\n",
    "    print(f\"🏃 Performance: {len(result)/duration:.1f} chars/second\")\n",
    "    \n",
    "    # Check if result contains expected elements\n",
    "    has_title = \"**\" in result\n",
    "    has_source = \"Source:\" in result\n",
    "    has_published = \"Published:\" in result\n",
    "    \n",
    "    print(f\"\\n✅ Contains titles: {has_title}\")\n",
    "    print(f\"✅ Contains sources: {has_source}\")\n",
    "    print(f\"✅ Contains dates: {has_published}\")\n",
    "    \n",
    "except Exception as e:\n",
    "    end_time = time.time()\n",
    "    duration = end_time - start_time\n",
    "    print(f\"❌ Error after {duration:.2f} seconds: {e}\")"
   ]
  },
  {
   "cell_type": "markdown",
   "metadata": {},
   "source": [
    "## Test Summary and Recommendations"
   ]
  },
  {
   "cell_type": "code",
   "execution_count": null,
   "metadata": {},
   "outputs": [],
   "source": [
    "print(\"🧪 TEST SUMMARY\")\n",
    "print(\"=\" * 50)\n",
    "print(\"\")\n",
    "print(\"Tests completed! Here's what was tested:\")\n",
    "print(\"\")\n",
    "print(\"1. ✅ Basic functionality with popular stocks (AAPL)\")\n",
    "print(\"2. ✅ Multiple different stock tickers (TSLA, GOOGL, MSFT, NVDA)\")\n",
    "print(\"3. ✅ Different article limits (1, 5, 15)\")\n",
    "print(\"4. ✅ Edge cases and error handling\")\n",
    "print(\"5. ✅ Class-based usage\")\n",
    "print(\"6. ✅ Performance and timing\")\n",
    "print(\"\")\n",
    "print(\"📝 RECOMMENDATIONS:\")\n",
    "print(\"\")\n",
    "print(\"- The tool handles invalid tickers gracefully\")\n",
    "print(\"- Performance depends on network and Yahoo Finance responsiveness\")\n",
    "print(\"- Consider adding retry logic for failed requests\")\n",
    "print(\"- Monitor rate limiting from Yahoo Finance\")\n",
    "print(\"- Tool requires playwright installation: pip install playwright && playwright install\")\n",
    "print(\"\")\n",
    "print(\"🎉 All tests completed successfully!\")"
   ]
  }
 ],
 "metadata": {
  "kernelspec": {
   "display_name": "Python 3",
   "language": "python",
   "name": "python3"
  },
  "language_info": {
   "codemirror_mode": {
    "name": "ipython",
    "version": 3
   },
   "file_extension": ".py",
   "mimetype": "text/x-python",
   "name": "python",
   "nbconvert_exporter": "python",
   "pygments_lexer": "ipython3",
   "version": "3.10.0"
  }
 },
 "nbformat": 4,
 "nbformat_minor": 4
}