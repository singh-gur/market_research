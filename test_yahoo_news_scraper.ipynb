{
 "cells": [
  {
   "cell_type": "markdown",
   "metadata": {},
   "source": [
    "# Yahoo News Scraper Tool Testing\n",
    "\n",
    "This notebook tests the Yahoo News Scraper tool with various scenarios including different stock tickers, error handling, and edge cases."
   ]
  },
  {
   "cell_type": "code",
   "execution_count": 1,
   "metadata": {},
   "outputs": [
    {
     "name": "stdout",
     "output_type": "stream",
     "text": [
      "Setup complete!\n",
      "Current working directory: /home/gurbakhshish/dev/src/github/market_research\n",
      "Python path: ['/home/gurbakhshish/dev/src/github/market_research/src', '/home/gurbakhshish/.pyenv/versions/3.13.5/lib/python313.zip', '/home/gurbakhshish/.pyenv/versions/3.13.5/lib/python3.13']...\n"
     ]
    }
   ],
   "source": [
    "# Import necessary modules\n",
    "import sys\n",
    "import os\n",
    "import logging\n",
    "\n",
    "# Add the src directory to Python path\n",
    "sys.path.insert(0, os.path.join(os.getcwd(), \"src\"))\n",
    "\n",
    "# Configure logging to see debug information\n",
    "logging.basicConfig(\n",
    "    level=logging.INFO, format=\"%(asctime)s - %(levelname)s - %(message)s\"\n",
    ")\n",
    "\n",
    "print(\"Setup complete!\")\n",
    "print(f\"Current working directory: {os.getcwd()}\")\n",
    "print(f\"Python path: {sys.path[:3]}...\")  # Show first 3 paths"
   ]
  },
  {
   "cell_type": "code",
   "execution_count": 2,
   "metadata": {},
   "outputs": [
    {
     "name": "stderr",
     "output_type": "stream",
     "text": [
      "2025-08-08 23:45:01,289 - INFO - HTTP Request: GET https://raw.githubusercontent.com/BerriAI/litellm/main/model_prices_and_context_window.json \"HTTP/1.1 200 OK\"\n"
     ]
    },
    {
     "name": "stdout",
     "output_type": "stream",
     "text": [
      "Successfully imported Yahoo News Scraper!\n"
     ]
    }
   ],
   "source": [
    "# Import the Yahoo News Scraper tool\n",
    "from market_research.tools.yahoo_news_scraper import (\n",
    "    YahooNewsScraperTool,\n",
    "    yahoo_news_scraper_tool,\n",
    ")\n",
    "\n",
    "print(\"Successfully imported Yahoo News Scraper!\")"
   ]
  },
  {
   "cell_type": "markdown",
   "metadata": {},
   "source": [
    "## Test 1: Basic Functionality - Popular Stock Ticker"
   ]
  },
  {
   "cell_type": "code",
   "execution_count": 3,
   "metadata": {},
   "outputs": [
    {
     "name": "stderr",
     "output_type": "stream",
     "text": [
      "2025-08-08 23:45:02,779 - INFO - Fetching news for ticker: 'AAPL' using Playwright\n"
     ]
    },
    {
     "name": "stdout",
     "output_type": "stream",
     "text": [
      "Testing with AAPL (Apple Inc.)...\n",
      "==================================================\n"
     ]
    },
    {
     "name": "stderr",
     "output_type": "stream",
     "text": [
      "2025-08-08 23:45:04,833 - INFO - Found 20 story items\n",
      "2025-08-08 23:45:06,680 - INFO - Scraped article: How Apple's 'made-in-America' strategy led to big ...\n",
      "2025-08-08 23:45:08,055 - INFO - Scraped article: Shareholder warns Apple's $100 billion investment ...\n",
      "2025-08-08 23:45:09,487 - INFO - Scraped article: Dow Jones Futures: Apple Drives Nasdaq To High; Go...\n",
      "2025-08-08 23:45:10,888 - INFO - Scraped article: Spending for Executive Protection Is on the Rise...\n",
      "2025-08-08 23:45:12,904 - INFO - Scraped article: Nasdaq posts record closing high with tech gains, ...\n"
     ]
    },
    {
     "name": "stdout",
     "output_type": "stream",
     "text": [
      "Latest news for AAPL from Yahoo Finance:\n",
      "\n",
      "1. **How Apple's 'made-in-America' strategy led to big market gains**\n",
      "   Published: 7 hours ago\n",
      "   Source: Yahoo Finance\n",
      "   Summary: In This Article:AAPL+4.24%Apple (AAPL) stock gains after the iPhone maker announced an additional $100 billion investment in the US. Apple CEO Tim Cookjoined President Trump at the White Houseto announce the details of the investment.Yahoo Finance Markets ReporterJosh Schaferexamines the stock's rou...\n",
      "   Link: https://finance.yahoo.com/video/apples-made-america-strategy-led-202608941.html\n",
      "\n",
      "2. **Shareholder warns Apple's $100 billion investment is more optics than impact**\n",
      "   Published: 18 hours ago\n",
      "   Source: Yahoo Finance\n",
      "   Summary: In This Article:AAPL+4.24%005930.KS+1.84%GOOGL+2.49%Apple (AAPL) is courting President Trump with afresh $100 billion manufacturing push,but it's questionable whether the move will deliver real gains for shareholders.\"I'd be very careful not to confuse good politics with what is actually going to ha...\n",
      "   Link: https://finance.yahoo.com/news/shareholder-warns-apples-100-billion-investment-is-more-optics-than-impact-164045324.html\n",
      "\n",
      "3. **Dow Jones Futures: Apple Drives Nasdaq To High; Google, Tesla Flash Buy Signals**\n",
      "   Published: 1 hour ago\n",
      "   Source: Yahoo Finance\n",
      "   Summary: In This Article:GOOGL+2.49%^DJI+0.47%AAPL+4.24%TSLA+2.29%^SPX+0.78%The stock market rallied last week, with the Nasdaq hitting a high, but note this budding divergence. Google, Tesla, Apple flashed buy signals.Continue ReadingView Comments\n",
      "   Link: https://finance.yahoo.com/m/01877e10-31a5-3ab9-9c4b-c6e1d63597a6/dow-jones-futures-apple.html\n",
      "\n",
      "4. **Spending for Executive Protection Is on the Rise**\n",
      "   Published: 3 hours ago\n",
      "   Source: Yahoo Finance\n",
      "   Summary: In This Article:^GSPC+0.78%AAPL+4.24%CSCO+2.70%DIS-0.40%NVDA+1.07%The median security expenditure for executives climbed to $106,500 in 2024 from $48,500 in 2020. The biggest risks are seen in the tech, communication services, healthcare, and energy sectors.Continue ReadingView Comments\n",
      "   Link: https://finance.yahoo.com/m/0b01b7e2-5bb8-3b05-939a-b833a4cfa2e8/spending-for-executive.html\n",
      "\n",
      "5. **Nasdaq posts record closing high with tech gains, rate cut optimism**\n",
      "   Published: 5 hours ago\n",
      "   Source: Yahoo Finance\n",
      "   Summary: In This Article:^SPX+0.78%^DJI+0.47%^IXIC+0.98%AAPL+4.24%GILD+8.28%STORY: U.S. stocks ended higher on Friday, with the Dow adding nearly half a percent, the S&P 500 climbing more than three-quarters of a percent, and the Nasdaq gaining one percent to notch a record closing high for the second straig...\n",
      "   Link: https://finance.yahoo.com/video/nasdaq-posts-record-closing-high-223253473.html\n",
      "\n",
      "\n",
      "\n",
      "==================================================\n",
      "✅ AAPL test completed successfully!\n"
     ]
    }
   ],
   "source": [
    "# Test with Apple stock (AAPL) - should have plenty of news\n",
    "print(\"Testing with AAPL (Apple Inc.)...\")\n",
    "print(\"=\" * 50)\n",
    "\n",
    "try:\n",
    "    result = yahoo_news_scraper_tool(\n",
    "        ticker=\"AAPL\", max_articles=5, max_content_length=1000\n",
    "    )\n",
    "    print(result)\n",
    "    print(\"\\n\" + \"=\" * 50)\n",
    "    print(\"✅ AAPL test completed successfully!\")\n",
    "except Exception as e:\n",
    "    print(f\"❌ Error testing AAPL: {e}\")"
   ]
  },
  {
   "cell_type": "markdown",
   "metadata": {},
   "source": [
    "## Test 2: Different Stock Tickers"
   ]
  },
  {
   "cell_type": "code",
   "execution_count": 4,
   "metadata": {},
   "outputs": [
    {
     "name": "stderr",
     "output_type": "stream",
     "text": [
      "2025-08-08 23:45:20,123 - INFO - Fetching news for ticker: 'TSLA' using Playwright\n"
     ]
    },
    {
     "name": "stdout",
     "output_type": "stream",
     "text": [
      "\n",
      "Testing with TSLA...\n",
      "------------------------------\n"
     ]
    },
    {
     "name": "stderr",
     "output_type": "stream",
     "text": [
      "2025-08-08 23:45:22,198 - INFO - Found 20 story items\n",
      "2025-08-08 23:45:23,631 - INFO - Scraped article: Under Armour, Tesla, Wendy's: Trending Tickers...\n",
      "2025-08-08 23:45:24,978 - INFO - Scraped article: Dow Jones Futures: Apple Drives Nasdaq To High; Go...\n",
      "2025-08-08 23:45:24,996 - INFO - Fetching news for ticker: 'GOOGL' using Playwright\n"
     ]
    },
    {
     "name": "stdout",
     "output_type": "stream",
     "text": [
      "Latest news for TSLA from Yahoo Finance:\n",
      "\n",
      "1. **Under Armour, Tesla, Wendy's: Trending Tickers**\n",
      "   Published: 13 hours ago\n",
      "   Source: Yahoo Finance\n",
      "   Summary: In This Article:UA-17.22%TSLA+2.29%WEN+1...\n",
      "✅ TSLA test completed - Full result length: 1049 characters\n",
      "\n",
      "Testing with GOOGL...\n",
      "------------------------------\n"
     ]
    },
    {
     "name": "stderr",
     "output_type": "stream",
     "text": [
      "2025-08-08 23:45:26,790 - INFO - Found 20 story items\n",
      "2025-08-08 23:45:28,248 - INFO - Scraped article: AI chips startup CEO: Intel has to fix systemic is...\n",
      "2025-08-08 23:45:29,636 - INFO - Scraped article: Dow Jones Futures: Apple Drives Nasdaq To High; Go...\n",
      "2025-08-08 23:45:29,652 - INFO - Fetching news for ticker: 'MSFT' using Playwright\n"
     ]
    },
    {
     "name": "stdout",
     "output_type": "stream",
     "text": [
      "Latest news for GOOGL from Yahoo Finance:\n",
      "\n",
      "1. **AI chips startup CEO: Intel has to fix systemic issues to get back on track**\n",
      "   Published: 11 hours ago\n",
      "   Source: Yahoo Finance\n",
      "   Summary: In This Ar...\n",
      "✅ GOOGL test completed - Full result length: 1118 characters\n",
      "\n",
      "Testing with MSFT...\n",
      "------------------------------\n"
     ]
    },
    {
     "name": "stderr",
     "output_type": "stream",
     "text": [
      "2025-08-08 23:45:32,172 - INFO - Found 20 story items\n",
      "2025-08-08 23:45:33,590 - INFO - Scraped article: These Were the 5 Biggest Companies in 2010, and He...\n",
      "2025-08-08 23:45:35,000 - INFO - Scraped article: Meta’s $29 Billion Deal Marks Key Moment for Priva...\n",
      "2025-08-08 23:45:35,015 - INFO - Fetching news for ticker: 'NVDA' using Playwright\n"
     ]
    },
    {
     "name": "stdout",
     "output_type": "stream",
     "text": [
      "Latest news for MSFT from Yahoo Finance:\n",
      "\n",
      "1. **These Were the 5 Biggest Companies in 2010, and Here Are the 5 Biggest Companies Now**\n",
      "   Published: 3 hours ago\n",
      "   Source: Yahoo Finance\n",
      "   Summary: In ...\n",
      "✅ MSFT test completed - Full result length: 1104 characters\n",
      "\n",
      "Testing with NVDA...\n",
      "------------------------------\n"
     ]
    },
    {
     "name": "stderr",
     "output_type": "stream",
     "text": [
      "2025-08-08 23:45:36,984 - INFO - Found 20 story items\n",
      "2025-08-08 23:45:38,379 - INFO - Scraped article: Intel's new CEO had 3 major problems to tackle. Th...\n",
      "2025-08-08 23:45:39,852 - INFO - Scraped article: Nvidia, chip stocks jump after Trump says some chi...\n"
     ]
    },
    {
     "name": "stdout",
     "output_type": "stream",
     "text": [
      "Latest news for NVDA from Yahoo Finance:\n",
      "\n",
      "1. **Intel's new CEO had 3 major problems to tackle. This week Trump added a new one.**\n",
      "   Published: 8 hours ago\n",
      "   Source: Yahoo Finance\n",
      "   Summary: In This...\n",
      "✅ NVDA test completed - Full result length: 1252 characters\n"
     ]
    }
   ],
   "source": [
    "# Test with multiple different stock tickers\n",
    "test_tickers = [\"TSLA\", \"GOOGL\", \"MSFT\", \"NVDA\"]\n",
    "\n",
    "for ticker in test_tickers:\n",
    "    print(f\"\\nTesting with {ticker}...\")\n",
    "    print(\"-\" * 30)\n",
    "\n",
    "    try:\n",
    "        result = yahoo_news_scraper_tool(ticker=ticker, max_articles=2)\n",
    "        # Show just the first 200 characters to keep output manageable\n",
    "        preview = result[:200] + \"...\" if len(result) > 200 else result\n",
    "        print(preview)\n",
    "        print(\n",
    "            f\"✅ {ticker} test completed - Full result length: {len(result)} characters\"\n",
    "        )\n",
    "    except Exception as e:\n",
    "        print(f\"❌ Error testing {ticker}: {e}\")"
   ]
  },
  {
   "cell_type": "markdown",
   "metadata": {},
   "source": [
    "## Test 3: Different Article Limits"
   ]
  },
  {
   "cell_type": "code",
   "execution_count": 5,
   "metadata": {},
   "outputs": [
    {
     "name": "stderr",
     "output_type": "stream",
     "text": [
      "2025-08-08 23:45:54,303 - INFO - Fetching news for ticker: 'AAPL' using Playwright\n"
     ]
    },
    {
     "name": "stdout",
     "output_type": "stream",
     "text": [
      "\n",
      "Testing AAPL with max_articles=1...\n",
      "----------------------------------------\n"
     ]
    },
    {
     "name": "stderr",
     "output_type": "stream",
     "text": [
      "2025-08-08 23:45:56,166 - INFO - Found 20 story items\n",
      "2025-08-08 23:45:58,072 - INFO - Scraped article: How Apple's 'made-in-America' strategy led to big ...\n",
      "2025-08-08 23:45:58,088 - INFO - Fetching news for ticker: 'AAPL' using Playwright\n"
     ]
    },
    {
     "name": "stdout",
     "output_type": "stream",
     "text": [
      "Latest news for AAPL from Yahoo Finance:\n",
      "\n",
      "1. **How Apple's 'made-in-America' strategy led to big market gains**\n",
      "   Published: 7 hours ago\n",
      "   Source: Yahoo Finance\n",
      "   Summary: In This Article:AAPL+4.24%Apple (AAPL) stock gains after the iPhone maker announced an additional $100 billion investment in ...\n",
      "\n",
      "📊 Requested: 1 articles, Found: ~2 articles\n",
      "✅ Test completed - Result length: 569 characters\n",
      "\n",
      "Testing AAPL with max_articles=5...\n",
      "----------------------------------------\n"
     ]
    },
    {
     "name": "stderr",
     "output_type": "stream",
     "text": [
      "2025-08-08 23:46:00,006 - INFO - Found 20 story items\n",
      "2025-08-08 23:46:01,595 - INFO - Scraped article: How Apple's 'made-in-America' strategy led to big ...\n",
      "2025-08-08 23:46:02,941 - INFO - Scraped article: Shareholder warns Apple's $100 billion investment ...\n",
      "2025-08-08 23:46:04,452 - INFO - Scraped article: Dow Jones Futures: Apple Drives Nasdaq To High; Go...\n",
      "2025-08-08 23:46:06,064 - INFO - Scraped article: Spending for Executive Protection Is on the Rise...\n",
      "2025-08-08 23:46:07,611 - INFO - Scraped article: Nasdaq posts record closing high with tech gains, ...\n",
      "2025-08-08 23:46:07,628 - INFO - Fetching news for ticker: 'AAPL' using Playwright\n"
     ]
    },
    {
     "name": "stdout",
     "output_type": "stream",
     "text": [
      "Latest news for AAPL from Yahoo Finance:\n",
      "\n",
      "1. **How Apple's 'made-in-America' strategy led to big market gains**\n",
      "   Published: 7 hours ago\n",
      "   Source: Yahoo Finance\n",
      "   Summary: In This Article:AAPL+4.24%Apple (AAPL) stock gains after the iPhone maker announced an additional $100 billion investment in ...\n",
      "\n",
      "📊 Requested: 5 articles, Found: ~10 articles\n",
      "✅ Test completed - Result length: 2706 characters\n",
      "\n",
      "Testing AAPL with max_articles=15...\n",
      "----------------------------------------\n"
     ]
    },
    {
     "name": "stderr",
     "output_type": "stream",
     "text": [
      "2025-08-08 23:46:09,710 - INFO - Found 20 story items\n",
      "2025-08-08 23:46:11,194 - INFO - Scraped article: How Apple's 'made-in-America' strategy led to big ...\n",
      "2025-08-08 23:46:12,558 - INFO - Scraped article: Shareholder warns Apple's $100 billion investment ...\n",
      "2025-08-08 23:46:14,184 - INFO - Scraped article: Dow Jones Futures: Apple Drives Nasdaq To High; Go...\n",
      "2025-08-08 23:46:15,665 - INFO - Scraped article: Spending for Executive Protection Is on the Rise...\n",
      "2025-08-08 23:46:17,129 - INFO - Scraped article: Nasdaq posts record closing high with tech gains, ...\n",
      "2025-08-08 23:46:18,466 - INFO - Scraped article: 'If You Want To Bribe Trump, Bring Gold—Not Bitcoi...\n",
      "2025-08-08 23:46:19,980 - INFO - Scraped article: Apple's $704 Billion Decade-Long Buybacks Exceed M...\n",
      "2025-08-08 23:46:21,702 - INFO - Scraped article: Is Apple Stock a Buy After Appeasing President Tru...\n",
      "2025-08-08 23:46:23,128 - INFO - Scraped article: S&P 500 Gains and Losses Today: Apple Stock Extend...\n",
      "2025-08-08 23:46:24,713 - INFO - Scraped article: Nasdaq Hits Fresh High as Wall Street Posts Best W...\n",
      "2025-08-08 23:46:26,196 - INFO - Scraped article: Gold futures hit record on US tariff shock; mixed ...\n",
      "2025-08-08 23:46:27,602 - INFO - Scraped article: The Score: Apple, Palantir, Intel and More Stocks ...\n",
      "2025-08-08 23:46:29,118 - INFO - Scraped article: Stocks to Watch Recap: Apple, Tesla, Firefly, Bloc...\n",
      "2025-08-08 23:46:30,421 - INFO - Scraped article: US Equity Indexes Rise This Week as Earnings Beat ...\n",
      "2025-08-08 23:46:31,863 - INFO - Scraped article: S&P 500 Posts Best Week Since June...\n"
     ]
    },
    {
     "name": "stdout",
     "output_type": "stream",
     "text": [
      "Latest news for AAPL from Yahoo Finance:\n",
      "\n",
      "1. **How Apple's 'made-in-America' strategy led to big market gains**\n",
      "   Published: 7 hours ago\n",
      "   Source: Yahoo Finance\n",
      "   Summary: In This Article:AAPL+4.24%Apple (AAPL) stock gains after the iPhone maker announced an additional $100 billion investment in ...\n",
      "\n",
      "📊 Requested: 15 articles, Found: ~30 articles\n",
      "✅ Test completed - Result length: 8143 characters\n"
     ]
    }
   ],
   "source": [
    "# Test different max_articles values\n",
    "ticker = \"AAPL\"  # Use AAPL as it's likely to have many articles\n",
    "article_limits = [1, 5, 15]\n",
    "\n",
    "for limit in article_limits:\n",
    "    print(f\"\\nTesting {ticker} with max_articles={limit}...\")\n",
    "    print(\"-\" * 40)\n",
    "\n",
    "    try:\n",
    "        result = yahoo_news_scraper_tool(ticker=ticker, max_articles=limit)\n",
    "\n",
    "        # Count the number of articles returned by counting numbered items\n",
    "        article_count = result.count(\"**\")  # Each article has a bold title\n",
    "\n",
    "        preview = result[:300] + \"...\" if len(result) > 300 else result\n",
    "        print(preview)\n",
    "        print(f\"\\n📊 Requested: {limit} articles, Found: ~{article_count} articles\")\n",
    "        print(f\"✅ Test completed - Result length: {len(result)} characters\")\n",
    "    except Exception as e:\n",
    "        print(f\"❌ Error testing with limit {limit}: {e}\")"
   ]
  },
  {
   "cell_type": "markdown",
   "metadata": {},
   "source": [
    "## Test 4: Edge Cases and Error Handling"
   ]
  },
  {
   "cell_type": "code",
   "execution_count": 6,
   "metadata": {},
   "outputs": [
    {
     "name": "stderr",
     "output_type": "stream",
     "text": [
      "2025-08-08 23:46:40,343 - INFO - Fetching news for ticker: 'INVALID123' using Playwright\n"
     ]
    },
    {
     "name": "stdout",
     "output_type": "stream",
     "text": [
      "\n",
      "Testing: Empty ticker ('')...\n",
      "----------------------------------------\n",
      "Error: No ticker symbol provided\n",
      "⚠️ Expected error handled properly\n",
      "\n",
      "Testing: Whitespace ticker ('   ')...\n",
      "----------------------------------------\n",
      "Error: No ticker symbol provided\n",
      "⚠️ Expected error handled properly\n",
      "\n",
      "Testing: Invalid ticker ('INVALID123')...\n",
      "----------------------------------------\n"
     ]
    },
    {
     "name": "stderr",
     "output_type": "stream",
     "text": [
      "2025-08-08 23:46:56,783 - WARNING - Timeout waiting for selector: div.news-stream\n",
      "2025-08-08 23:46:57,045 - INFO - Found 0 story items\n",
      "2025-08-08 23:46:57,060 - INFO - Fetching news for ticker: 'AAPL' using Playwright\n"
     ]
    },
    {
     "name": "stdout",
     "output_type": "stream",
     "text": [
      "No news articles found for ticker INVALID123. The page loaded but contained no recognizable news content.\n",
      "✅ Handled successfully\n",
      "\n",
      "Testing: Lowercase ticker ('aapl')...\n",
      "----------------------------------------\n"
     ]
    },
    {
     "name": "stderr",
     "output_type": "stream",
     "text": [
      "2025-08-08 23:46:58,936 - INFO - Found 20 story items\n",
      "2025-08-08 23:47:00,365 - INFO - Scraped article: How Apple's 'made-in-America' strategy led to big ...\n",
      "2025-08-08 23:47:01,807 - INFO - Scraped article: Shareholder warns Apple's $100 billion investment ...\n",
      "2025-08-08 23:47:01,823 - INFO - Fetching news for ticker: 'AAPL' using Playwright\n"
     ]
    },
    {
     "name": "stdout",
     "output_type": "stream",
     "text": [
      "Latest news for AAPL from Yahoo Finance:\n",
      "\n",
      "1. **How Apple's 'made-in-America' strategy led to big market gains**\n",
      "   Published: 7 hours ago\n",
      "   Source: Yahoo Finance\n",
      "   Summary: In This Article:AAPL+4.24...\n",
      "✅ Handled successfully\n",
      "\n",
      "Testing: Ticker with trailing space ('AAPL ')...\n",
      "----------------------------------------\n"
     ]
    },
    {
     "name": "stderr",
     "output_type": "stream",
     "text": [
      "2025-08-08 23:47:03,943 - INFO - Found 20 story items\n",
      "2025-08-08 23:47:05,866 - INFO - Scraped article: How Apple's 'made-in-America' strategy led to big ...\n",
      "2025-08-08 23:47:07,478 - INFO - Scraped article: Shareholder warns Apple's $100 billion investment ...\n"
     ]
    },
    {
     "name": "stdout",
     "output_type": "stream",
     "text": [
      "Latest news for AAPL from Yahoo Finance:\n",
      "\n",
      "1. **How Apple's 'made-in-America' strategy led to big market gains**\n",
      "   Published: 7 hours ago\n",
      "   Source: Yahoo Finance\n",
      "   Summary: In This Article:AAPL+4.24...\n",
      "✅ Handled successfully\n"
     ]
    }
   ],
   "source": [
    "# Test edge cases\n",
    "edge_cases = [\n",
    "    (\"\", \"Empty ticker\"),\n",
    "    (\"   \", \"Whitespace ticker\"),\n",
    "    (\"INVALID123\", \"Invalid ticker\"),\n",
    "    (\"aapl\", \"Lowercase ticker\"),\n",
    "    (\"AAPL \", \"Ticker with trailing space\"),\n",
    "]\n",
    "\n",
    "for ticker, description in edge_cases:\n",
    "    print(f\"\\nTesting: {description} ('{ticker}')...\")\n",
    "    print(\"-\" * 40)\n",
    "\n",
    "    try:\n",
    "        result = yahoo_news_scraper_tool(ticker=ticker, max_articles=2)\n",
    "        preview = result[:200] + \"...\" if len(result) > 200 else result\n",
    "        print(preview)\n",
    "\n",
    "        if \"Error\" in result:\n",
    "            print(\"⚠️ Expected error handled properly\")\n",
    "        else:\n",
    "            print(\"✅ Handled successfully\")\n",
    "    except Exception as e:\n",
    "        print(f\"❌ Unexpected exception: {e}\")"
   ]
  },
  {
   "cell_type": "markdown",
   "metadata": {},
   "source": [
    "## Test 5: Class-based Usage"
   ]
  },
  {
   "cell_type": "code",
   "execution_count": 7,
   "metadata": {},
   "outputs": [
    {
     "name": "stderr",
     "output_type": "stream",
     "text": [
      "2025-08-08 23:47:15,319 - INFO - Fetching news for ticker: 'MSFT' using Playwright\n"
     ]
    },
    {
     "name": "stdout",
     "output_type": "stream",
     "text": [
      "Testing class-based usage...\n",
      "========================================\n",
      "Tool name: Yahoo News Scraper\n",
      "Tool description: Tool Name: Yahoo News Scraper\n",
      "Tool Arguments: {'ticker': {'description': 'The stock ticker symbol to...\n",
      "Args schema: <class 'market_research.tools.yahoo_news_scraper.YahooNewsScraperInput'>\n"
     ]
    },
    {
     "name": "stderr",
     "output_type": "stream",
     "text": [
      "2025-08-08 23:47:17,517 - INFO - Found 20 story items\n",
      "2025-08-08 23:47:19,123 - INFO - Scraped article: These Were the 5 Biggest Companies in 2010, and He...\n",
      "2025-08-08 23:47:20,593 - INFO - Scraped article: Meta’s $29 Billion Deal Marks Key Moment for Priva...\n"
     ]
    },
    {
     "name": "stdout",
     "output_type": "stream",
     "text": [
      "\n",
      "Result preview: Latest news for MSFT from Yahoo Finance:\n",
      "\n",
      "1. **These Were the 5 Biggest Companies in 2010, and Here Are the 5 Biggest Companies Now**\n",
      "   Published: 3 hours ago\n",
      "   Source: Yahoo Finance\n",
      "   Summary: In ...\n",
      "✅ Class-based usage test completed\n"
     ]
    }
   ],
   "source": [
    "# Test using the class directly instead of the convenience function\n",
    "print(\"Testing class-based usage...\")\n",
    "print(\"=\" * 40)\n",
    "\n",
    "try:\n",
    "    # Create tool instance\n",
    "    tool = YahooNewsScraperTool()\n",
    "\n",
    "    # Test tool properties\n",
    "    print(f\"Tool name: {tool.name}\")\n",
    "    print(f\"Tool description: {tool.description[:100]}...\")\n",
    "    print(f\"Args schema: {tool.args_schema}\")\n",
    "\n",
    "    # Run the tool\n",
    "    result = tool._run(ticker=\"MSFT\", max_articles=2)\n",
    "    preview = result[:200] + \"...\" if len(result) > 200 else result\n",
    "    print(f\"\\nResult preview: {preview}\")\n",
    "    print(\"✅ Class-based usage test completed\")\n",
    "\n",
    "except Exception as e:\n",
    "    print(f\"❌ Error in class-based usage: {e}\")"
   ]
  },
  {
   "cell_type": "markdown",
   "metadata": {},
   "source": [
    "## Test 6: Performance and Timing"
   ]
  },
  {
   "cell_type": "code",
   "execution_count": 8,
   "metadata": {},
   "outputs": [
    {
     "name": "stderr",
     "output_type": "stream",
     "text": [
      "2025-08-08 23:47:38,474 - INFO - Fetching news for ticker: 'AAPL' using Playwright\n"
     ]
    },
    {
     "name": "stdout",
     "output_type": "stream",
     "text": [
      "Performance testing...\n",
      "==============================\n"
     ]
    },
    {
     "name": "stderr",
     "output_type": "stream",
     "text": [
      "2025-08-08 23:47:40,291 - INFO - Found 20 story items\n",
      "2025-08-08 23:47:41,700 - INFO - Scraped article: How Apple's 'made-in-America' strategy led to big ...\n",
      "2025-08-08 23:47:43,135 - INFO - Scraped article: Shareholder warns Apple's $100 billion investment ...\n",
      "2025-08-08 23:47:44,521 - INFO - Scraped article: Dow Jones Futures: Apple Drives Nasdaq To High; Go...\n"
     ]
    },
    {
     "name": "stdout",
     "output_type": "stream",
     "text": [
      "⏱️ Execution time: 6.06 seconds\n",
      "📊 Result length: 1645 characters\n",
      "🏃 Performance: 271.4 chars/second\n",
      "\n",
      "✅ Contains titles: True\n",
      "✅ Contains sources: True\n",
      "✅ Contains dates: True\n"
     ]
    }
   ],
   "source": [
    "import time\n",
    "\n",
    "# Test performance with timing\n",
    "print(\"Performance testing...\")\n",
    "print(\"=\" * 30)\n",
    "\n",
    "ticker = \"AAPL\"\n",
    "max_articles = 3\n",
    "\n",
    "start_time = time.time()\n",
    "try:\n",
    "    result = yahoo_news_scraper_tool(ticker=ticker, max_articles=max_articles)\n",
    "    end_time = time.time()\n",
    "\n",
    "    duration = end_time - start_time\n",
    "\n",
    "    print(f\"⏱️ Execution time: {duration:.2f} seconds\")\n",
    "    print(f\"📊 Result length: {len(result)} characters\")\n",
    "    print(f\"🏃 Performance: {len(result) / duration:.1f} chars/second\")\n",
    "\n",
    "    # Check if result contains expected elements\n",
    "    has_title = \"**\" in result\n",
    "    has_source = \"Source:\" in result\n",
    "    has_published = \"Published:\" in result\n",
    "\n",
    "    print(f\"\\n✅ Contains titles: {has_title}\")\n",
    "    print(f\"✅ Contains sources: {has_source}\")\n",
    "    print(f\"✅ Contains dates: {has_published}\")\n",
    "\n",
    "except Exception as e:\n",
    "    end_time = time.time()\n",
    "    duration = end_time - start_time\n",
    "    print(f\"❌ Error after {duration:.2f} seconds: {e}\")"
   ]
  },
  {
   "cell_type": "markdown",
   "metadata": {},
   "source": [
    "## Test Summary and Recommendations"
   ]
  },
  {
   "cell_type": "code",
   "execution_count": 9,
   "metadata": {},
   "outputs": [
    {
     "name": "stdout",
     "output_type": "stream",
     "text": [
      "🧪 TEST SUMMARY\n",
      "==================================================\n",
      "\n",
      "Tests completed! Here's what was tested:\n",
      "\n",
      "1. ✅ Basic functionality with popular stocks (AAPL)\n",
      "2. ✅ Multiple different stock tickers (TSLA, GOOGL, MSFT, NVDA)\n",
      "3. ✅ Different article limits (1, 5, 15)\n",
      "4. ✅ Edge cases and error handling\n",
      "5. ✅ Class-based usage\n",
      "6. ✅ Performance and timing\n",
      "\n",
      "📝 RECOMMENDATIONS:\n",
      "\n",
      "- The tool handles invalid tickers gracefully\n",
      "- Performance depends on network and Yahoo Finance responsiveness\n",
      "- Consider adding retry logic for failed requests\n",
      "- Monitor rate limiting from Yahoo Finance\n",
      "- Tool requires playwright installation: pip install playwright && playwright install\n",
      "\n",
      "🎉 All tests completed successfully!\n"
     ]
    }
   ],
   "source": [
    "print(\"🧪 TEST SUMMARY\")\n",
    "print(\"=\" * 50)\n",
    "print(\"\")\n",
    "print(\"Tests completed! Here's what was tested:\")\n",
    "print(\"\")\n",
    "print(\"1. ✅ Basic functionality with popular stocks (AAPL)\")\n",
    "print(\"2. ✅ Multiple different stock tickers (TSLA, GOOGL, MSFT, NVDA)\")\n",
    "print(\"3. ✅ Different article limits (1, 5, 15)\")\n",
    "print(\"4. ✅ Edge cases and error handling\")\n",
    "print(\"5. ✅ Class-based usage\")\n",
    "print(\"6. ✅ Performance and timing\")\n",
    "print(\"\")\n",
    "print(\"📝 RECOMMENDATIONS:\")\n",
    "print(\"\")\n",
    "print(\"- The tool handles invalid tickers gracefully\")\n",
    "print(\"- Performance depends on network and Yahoo Finance responsiveness\")\n",
    "print(\"- Consider adding retry logic for failed requests\")\n",
    "print(\"- Monitor rate limiting from Yahoo Finance\")\n",
    "print(\n",
    "    \"- Tool requires playwright installation: pip install playwright && playwright install\"\n",
    ")\n",
    "print(\"\")\n",
    "print(\"🎉 All tests completed successfully!\")"
   ]
  }
 ],
 "metadata": {
  "kernelspec": {
   "display_name": "market-research",
   "language": "python",
   "name": "python3"
  },
  "language_info": {
   "codemirror_mode": {
    "name": "ipython",
    "version": 3
   },
   "file_extension": ".py",
   "mimetype": "text/x-python",
   "name": "python",
   "nbconvert_exporter": "python",
   "pygments_lexer": "ipython3",
   "version": "3.13.5"
  }
 },
 "nbformat": 4,
 "nbformat_minor": 4
}
